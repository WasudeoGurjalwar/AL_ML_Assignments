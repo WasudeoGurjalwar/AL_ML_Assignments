{
  "cells": [
    {
      "cell_type": "markdown",
      "metadata": {
        "id": "view-in-github",
        "colab_type": "text"
      },
      "source": [
        "<a href=\"https://colab.research.google.com/github/WasudeoGurjalwar/AL_ML_Assignments/blob/main/Assignments/Assignment1/Pandas.ipynb\" target=\"_parent\"><img src=\"https://colab.research.google.com/assets/colab-badge.svg\" alt=\"Open In Colab\"/></a>"
      ]
    },
    {
      "cell_type": "markdown",
      "metadata": {
        "id": "xHXvpkAXjYA8"
      },
      "source": [
        "### Data Exploration Exercises\n",
        "\n",
        "#### Task 1.1 - The goal of this exercise is to find the average age of celebrities who died February–July 2016\n",
        "\n",
        "<div>\n",
        "  <a href=\"https://colab.research.google.com/github/emharsha1812/CCE_Assignment/blob/main/Assignments/Pandas.ipynb\" target=\"_parent\">\n",
        "    <img src=\"https://colab.research.google.com/assets/colab-badge.svg\" alt=\"Open In Colab\"/>\n",
        "  </a>\n",
        "</div>\n",
        "\n",
        "1. Create a data frame from the file celebrity_deaths_2016.csv. For this exercise, we’ll use only two columns:\n",
        "–dateofdeath\n",
        "– age\n",
        "2. Create a new month column containing the month from the dateofdeath\n",
        "column.\n",
        "3. Make the month column the index of the data frame.\n",
        "4. Sort the data frame by the index.\n",
        "5. Clean all nonintegers from the age column.\n",
        "6. Turn the age column into an integer value.\n",
        "7. Find the average age of celebrities who died during that period"
      ]
    },
    {
      "cell_type": "code",
      "execution_count": 94,
      "metadata": {
        "id": "gCIMmbgrjYBA",
        "outputId": "f0ba0266-6ab1-419f-8749-87edf2f07619",
        "colab": {
          "base_uri": "https://localhost:8080/"
        }
      },
      "outputs": [
        {
          "output_type": "stream",
          "name": "stdout",
          "text": [
            "average_age_ans: 85.4548802946593\n"
          ]
        }
      ],
      "source": [
        "import pandas as pd\n",
        "import numpy as np\n",
        "\n",
        "import csv\n",
        "import urllib\n",
        "\n",
        "# You are NOT required to change the code here\n",
        "# titanic_df=pd.read_csv('celebrity_deaths_2016.csv')\n",
        "titanic_df='https://raw.githubusercontent.com/WasudeoGurjalwar/AL_ML_Assignments/refs/heads/main/Assignments/Assignment1/celebrity_deaths_2016.csv'\n",
        "\n",
        "def calculate_average_age(df=titanic_df):\n",
        "    #TODO- Write your code here\n",
        "    '''Arguments -\n",
        "    titanic_df = The pandas dataframe that we loaded\n",
        "\n",
        "    Returns\n",
        "    int : average_age\n",
        "    '''\n",
        "    # read the csv file from the URL\n",
        "    df = pd.read_csv(titanic_df)\n",
        "\n",
        "    #month column creation\n",
        "    df['death_month'] = pd.to_datetime(df['dateofdeath']).dt.month\n",
        "\n",
        "    # month column indexing\n",
        "    df.set_index('death_month',inplace=True)\n",
        "\n",
        "     # month column sorting\n",
        "    df.sort_index(inplace=True)\n",
        "    #age column operations\n",
        "    df['age'] = pd.to_numeric(df['age'], errors = 'coerce').fillna(0).astype(int)\n",
        "    df['age'] = df['age'].astype(int)\n",
        "\n",
        "    #extracting july month data\n",
        "    july_16_deaths = df[(df.index)==7]\n",
        "\n",
        "    #average age calculations\n",
        "    average_age=None #Placeholder\n",
        "    average_age = july_16_deaths['age'].mean()\n",
        "    return average_age\n",
        "\n",
        "get_average_age_ans=calculate_average_age(titanic_df)\n",
        "print (\"average_age_ans:\",get_average_age_ans)"
      ]
    },
    {
      "cell_type": "markdown",
      "source": [],
      "metadata": {
        "id": "fBsd7sFbDLzx"
      }
    },
    {
      "cell_type": "markdown",
      "metadata": {
        "id": "YCKEmbIvjYBC"
      },
      "source": [
        "### Task 1.2 - The goal of this exercise is to group the data according to the below conditions\n",
        "1. Load the CSV file nyc_taxi_2019-01.csv into a data frame using only the columns passenger_count, trip_distance, and total_amount.\n",
        "2. Using a descending sort, find the average cost of the 20 longest (in distance) taxi rides in January 2019.\n",
        "3. Using an ascending sort, find the average cost of the 20 longest (in distance) taxi rides in January 2019. Are the results any different?\n",
        "4. Sort by ascending passenger count and descending trip distance. (So, start with the longest trip with 0 passengers and end with the shortest trip with 9 passengers.) What is the average price paid for the top 50 rides?\n"
      ]
    },
    {
      "cell_type": "code",
      "execution_count": 97,
      "metadata": {
        "id": "nOcngoHKjYBD",
        "outputId": "0110738e-b185-4676-9ed0-c98d6a6fe14f",
        "colab": {
          "base_uri": "https://localhost:8080/"
        }
      },
      "outputs": [
        {
          "output_type": "stream",
          "name": "stdout",
          "text": [
            "avg_asc 86.9045\n",
            "avg_desc 86.9045\n",
            "average_price 73.95580000000000012\n"
          ]
        }
      ],
      "source": [
        "# filename = 'nyc_taxidataset.csv'\n",
        "filename='https://raw.githubusercontent.com/WasudeoGurjalwar/AL_ML_Assignments/refs/heads/main/Assignments/Assignment1/nyc_taxidataset.csv'\n",
        "df = pd.read_csv(filename,usecols=['passenger_count','trip_distance',\n",
        "'total_amount'],\n",
        "dtype={'total_amount':np.float128})\n",
        "\n",
        "#reading complete file for getting data for jan 2019\n",
        "df_complete = pd.read_csv(filename)\n",
        "\n",
        "# Task 1.2.2 & Task 1.2.3\n",
        "def get_average_cost_descending_sort(df):\n",
        "    \"\"\"Arguments- df:Dataframe\n",
        "\n",
        "    Returns\n",
        "    tuple of float - (avg_desc,avg_asc) : (rounded of two integers)\n",
        "    \"\"\"\n",
        "\n",
        "    #accessing data for january 2019 data\n",
        "    df_complete['tpep_pickup_datetime'] = pd.to_datetime(df_complete['tpep_pickup_datetime'])\n",
        "    january_rides = df_complete[(df_complete['tpep_pickup_datetime'].dt.month == 1) & (df_complete['tpep_pickup_datetime'].dt.year == 2019)]\n",
        "\n",
        "    #sorting data for january 2019 data\n",
        "    df_1 = january_rides.sort_values(by='trip_distance',ascending=False)\n",
        "    df_2 = january_rides.sort_values(by='trip_distance',ascending=True)\n",
        "\n",
        "    #getting first and last 20 data\n",
        "    df_1 = df_1.head(20)\n",
        "    df_2 = df_2.tail(20)\n",
        "\n",
        "    avg_desc=None\n",
        "    avg_asc=None\n",
        "\n",
        "    #calculating mean value\n",
        "    avg_desc = df_1['total_amount'].mean()\n",
        "    avg_asc = df_2['total_amount'].mean()\n",
        "    print (\"avg_asc\", avg_asc)\n",
        "    print (\"avg_desc\",avg_desc)\n",
        "\n",
        "    return (avg_desc,avg_asc)\n",
        "\n",
        "def get_price_top50_rides(df):\n",
        "    \"\"\"Arguments df:Dataframe\n",
        "    Returns\n",
        "    float - rounded to two integers\n",
        "    \"\"\"\n",
        "    avg_price_rides=None\n",
        "    #Write your code below\n",
        "\n",
        "    #sorting data for passenger count and trip\n",
        "    df_1 = df.sort_values(by='passenger_count',ascending=True)\n",
        "    df_1 = df.sort_values(by='trip_distance',ascending=False)\n",
        "\n",
        "    #getting dtaa for 50 rides\n",
        "    top_50_rides = df_1.head(50)\n",
        "\n",
        "    #averag calculation\n",
        "    average_price = top_50_rides['total_amount'].mean()\n",
        "    print(\"average_price\", average_price)\n",
        "\n",
        "    return avg_price_rides\n",
        "\n",
        "\n",
        "get_average_cost_ans=get_average_cost_descending_sort(df)\n",
        "get_avg_price_top50_ans=get_price_top50_rides(df)"
      ]
    },
    {
      "cell_type": "markdown",
      "metadata": {
        "id": "BMgsN0S0jYBE"
      },
      "source": [
        "#### Task 1.3 - The goal of this exercise is to group the data according to the below conditions\n",
        "1. Load taxi data from January 2019 into a data frame using only the columns passenger_count, trip_distance, and total_amount.\n",
        "2. For each number of passengers, find the mean cost of a taxi ride. Sort this result from lowest (i.e., cheapest) to highest (i.e., most expensive). Return the topmost value (use .head(1))\n",
        "Sort the results again by increasing the number of passengers. Return the topmost value (use .head(1))\n",
        "3. Create a new column, trip_distance_group, in which the values are short (< 2\n",
        "miles), medium (>= 2 miles and <= 10 miles), and long (> 10 miles). What is the\n",
        "average number of passengers per trip length category? Sort this result from\n",
        "highest (most passengers) to lowest (fewest passengers)."
      ]
    },
    {
      "cell_type": "code",
      "execution_count": 106,
      "metadata": {
        "id": "kotBhZH3jYBE",
        "outputId": "dc61f120-be11-412c-cce0-a85f86442182",
        "colab": {
          "base_uri": "https://localhost:8080/"
        }
      },
      "outputs": [
        {
          "output_type": "stream",
          "name": "stdout",
          "text": [
            "mean_cost: passenger_count\n",
            "0    15.466106\n",
            "1    15.450106\n",
            "2    15.861600\n",
            "3    16.133279\n",
            "4    15.735145\n",
            "5    15.826714\n",
            "6    16.030469\n",
            "Name: total_amount, dtype: float64\n",
            "mean_cost: passenger_count\n",
            "0    15.466106\n",
            "1    15.450106\n",
            "2    15.861600\n",
            "3    16.133279\n",
            "4    15.735145\n",
            "5    15.826714\n",
            "6    16.030469\n",
            "Name: total_amount, dtype: float64\n",
            "cheapest_ride: passenger_count\n",
            "1    15.450106\n",
            "Name: total_amount, dtype: float64\n",
            "lowest_passenger_count: passenger_count\n",
            "0    15.466106\n",
            "Name: total_amount, dtype: float64\n",
            "avg_passengers_per_group: trip_distance_group\n",
            "long      1.735562\n",
            "medium    1.788723\n",
            "short     1.749334\n",
            "Name: passenger_count, dtype: float64\n",
            "trip_distance_group\n",
            "medium    1.788723\n",
            "short     1.749334\n",
            "long      1.735562\n",
            "Name: passenger_count, dtype: float64\n"
          ]
        }
      ],
      "source": [
        "filename='https://raw.githubusercontent.com/WasudeoGurjalwar/AL_ML_Assignments/refs/heads/main/Assignments/Assignment1/nyc_taxidataset.csv'\n",
        "df = pd.read_csv(filename,usecols=['passenger_count','trip_distance','total_amount'])\n",
        "\n",
        "#reading complete file for getting data for jan 2019\n",
        "df_complete = pd.read_csv(filename)\n",
        "df_complete['tpep_pickup_datetime'] = pd.to_datetime(df_complete['tpep_pickup_datetime'])\n",
        "january_rides = df_complete[(df_complete['tpep_pickup_datetime'].dt.month == 1) & (df_complete['tpep_pickup_datetime'].dt.year == 2019)]\n",
        "\n",
        "\n",
        "def get_mean_cost(df):\n",
        "    \"\"\"Parameters\n",
        "    df - Dataframe\n",
        "\n",
        "    Returns\n",
        "    mean_cost : int\"\"\"\n",
        "    #Write your code below\n",
        "    mean_cost=None\n",
        "    mean_cost = january_rides.groupby('passenger_count')['total_amount'].mean()\n",
        "    print(\"mean_cost:\",mean_cost)\n",
        "    return mean_cost\n",
        "\n",
        "\n",
        "def get_lowest_average_fare(df):\n",
        "    \"\"\"\n",
        "    Find the passenger count with the lowest average total fare.\n",
        "\n",
        "    Args:\n",
        "    df (pandas.DataFrame): A DataFrame containing 'passenger_count' and 'total_amount' columns.\n",
        "\n",
        "    Returns:\n",
        "    pandas.Series: A Series with one row, containing the passenger count with the lowest average fare.\n",
        "    \"\"\"\n",
        "    mean_cost=None\n",
        "    mean_cost = january_rides.groupby('passenger_count')['total_amount'].mean()\n",
        "    print(\"mean_cost:\",mean_cost)\n",
        "\n",
        "    #Sort by mean cost (ascending)\n",
        "    sorted_mean_cost = mean_cost.sort_values()\n",
        "\n",
        "    #cheapest ride cal\n",
        "    cheapest_ride = sorted_mean_cost.head(1)\n",
        "    print(\"cheapest_ride:\",cheapest_ride)\n",
        "    # Sort by passenger count (ascending)\n",
        "    sorted_by_passengers = mean_cost.sort_index()\n",
        "\n",
        "    # ride with the lowest passenger count\n",
        "    lowest_passenger_count = sorted_by_passengers.head(1)\n",
        "    print(\"lowest_passenger_count:\",lowest_passenger_count)\n",
        "    pass\n",
        "\n",
        "\n",
        "def categorize_distance(distance):\n",
        "  if distance < 2:\n",
        "    return 'short'\n",
        "  elif distance <= 10:\n",
        "    return 'medium'\n",
        "  else:\n",
        "    return 'long'\n",
        "\n",
        "def get_trip_length_category(df):\n",
        "    \"\"\"\n",
        "    Find the average number of passengers per trip length category\n",
        "\n",
        "    Args:\n",
        "    df (pandas.DataFrame): A DataFrame containing 'passenger_count' and 'total_amount' columns.\n",
        "\n",
        "    Returns:\n",
        "    pandas.Series: A Series with three rows. displaying values of trip distance (short, medium, long).\n",
        "    \"\"\"\n",
        "\n",
        "    df['trip_distance_group'] = df['trip_distance'].apply(categorize_distance)\n",
        "\n",
        "    avg_passengers_per_group = df.groupby('trip_distance_group')['passenger_count'].mean()\n",
        "    print(\"avg_passengers_per_group:\",avg_passengers_per_group)\n",
        "\n",
        "    sorted_avg_passengers = avg_passengers_per_group.sort_values(ascending=False)\n",
        "\n",
        "    print(sorted_avg_passengers)\n",
        "\n",
        "\n",
        "\n",
        "\n",
        "    pass\n",
        "\n",
        "mean_cost_ans=get_mean_cost(df)\n",
        "lowest_average_fare_ans=get_lowest_average_fare(df)\n",
        "trip_length_category_ans=get_trip_length_category(df)\n"
      ]
    }
  ],
  "metadata": {
    "kernelspec": {
      "display_name": "Python 3",
      "language": "python",
      "name": "python3"
    },
    "language_info": {
      "codemirror_mode": {
        "name": "ipython",
        "version": 3
      },
      "file_extension": ".py",
      "mimetype": "text/x-python",
      "name": "python",
      "nbconvert_exporter": "python",
      "pygments_lexer": "ipython3",
      "version": "3.10.12"
    },
    "colab": {
      "provenance": [],
      "include_colab_link": true
    }
  },
  "nbformat": 4,
  "nbformat_minor": 0
}