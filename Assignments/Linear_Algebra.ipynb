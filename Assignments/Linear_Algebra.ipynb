{
  "cells": [
    {
      "cell_type": "markdown",
      "metadata": {
        "id": "view-in-github",
        "colab_type": "text"
      },
      "source": [
        "<a href=\"https://colab.research.google.com/github/WasudeoGurjalwar/AL_ML_Assignments/blob/main/Assignments/Linear_Algebra.ipynb\" target=\"_parent\"><img src=\"https://colab.research.google.com/assets/colab-badge.svg\" alt=\"Open In Colab\"/></a>"
      ]
    },
    {
      "cell_type": "markdown",
      "metadata": {
        "id": "5Y7DUJ8xQeka"
      },
      "source": [
        "## Linear Algebra and Calculus Assignment\n",
        "##### Introduction\n",
        "This assignment covers three main topics: Linear Algebra, Calculus, and Data Processing and visualisation techniques. You will implement Principal Component Analysis (PCA) for image compression and a basic gradient descent algorithm for linear regression. After that you will work on solving problems posed on tabular data with the help of pandas library.\n",
        "### Part 1: Linear Algebra - Principal Component Analysis (PCA)\n",
        "Problem Statement - **Implement PCA to compress a grayscale image**  \n",
        "Break down the PCA algorithm into the following steps:\n",
        "\n",
        "1. Load and preprocess the image\n",
        "2. Compute the covariance matrix\n",
        "3. Compute eigenvectors and eigenvalues\n",
        "4. Select top k eigenvectors\n",
        "5. Project the data onto the new subspace\n",
        "6. Reconstruct the compressed image\n",
        "7. Bring it all together in the main function\n",
        "\n",
        "\n",
        "<div>\n",
        "  <a href=\"https://colab.research.google.com/github/emharsha1812/CCE_Assignment/blob/main/Assignments/Linear_Algebra.ipynb\" target=\"_parent\">\n",
        "    <img src=\"https://colab.research.google.com/assets/colab-badge.svg\" alt=\"Open In Colab\"/>\n",
        "  </a>\n",
        "</div>"
      ]
    },
    {
      "cell_type": "markdown",
      "metadata": {
        "id": "4L2761vQQekd"
      },
      "source": [
        "### 1.0 Loading and preprocessing the image  \n",
        "\n",
        "**Already Done**  Load a grayscale image using an appropriate library  \n",
        "**Already Done**: Reshape the image into a 2D array where each row represents a pixel"
      ]
    },
    {
      "cell_type": "code",
      "execution_count": 3,
      "metadata": {
        "id": "9xoe-crhQeke",
        "outputId": "320c067f-82c6-4a79-bf70-f544a031938b",
        "colab": {
          "base_uri": "https://localhost:8080/",
          "height": 487
        }
      },
      "outputs": [
        {
          "output_type": "display_data",
          "data": {
            "text/plain": [
              "<Figure size 640x480 with 1 Axes>"
            ],
            "image/png": "[encoded data removed]"
          },
          "metadata": {}
        },
        {
          "output_type": "stream",
          "name": "stdout",
          "text": [
            "Original image shape: (8, 8)\n",
            "Total number of pixels: 64\n"
          ]
        }
      ],
      "source": [
        "# IMP - We've provided the code to load and preprocess the image data. You don't need to modify this section.\n",
        "\n",
        "import numpy as np\n",
        "import matplotlib.pyplot as plt\n",
        "from sklearn.datasets import load_digits\n",
        "\n",
        "# Load the digits dataset\n",
        "digits = load_digits()\n",
        "X = digits.data\n",
        "y = digits.target\n",
        "\n",
        "# Reshape the first image\n",
        "image = X[0].reshape(8, 8)\n",
        "\n",
        "# Display the original image\n",
        "plt.imshow(image, cmap='gray')\n",
        "plt.title('Original Image')\n",
        "plt.show()\n",
        "\n",
        "print(f\"Original image shape: {image.shape}\")\n",
        "print(f\"Total number of pixels: {image.size}\")"
      ]
    },
    {
      "cell_type": "markdown",
      "metadata": {
        "id": "S-dIT0E1Qekg"
      },
      "source": [
        "### 1.1 Compute the covariance matrix\n",
        "\n",
        "**TODO**: Center the data by subtracting the mean of each feature  \n",
        "**TODO**: Compute the covariance matrix of the centered data"
      ]
    },
    {
      "cell_type": "code",
      "execution_count": 4,
      "metadata": {
        "id": "tVIr2peWQekg"
      },
      "outputs": [],
      "source": [
        "# 1.1 Compute the covariance matrix\n",
        "def compute_covariance_matrix(X):\n",
        "    \"\"\"\n",
        "    Compute the covariance matrix for the input data.\n",
        "\n",
        "    Args:\n",
        "    X (numpy.ndarray): Input data matrix\n",
        "\n",
        "    Returns:\n",
        "    numpy.ndarray: Covariance matrix\n",
        "    \"\"\"\n",
        "    #Center the data by substacting the mean of each feature\n",
        "    center_data = X - np.mean(X,axis=0)\n",
        "\n",
        "    #Number of observations\n",
        "    n = X.shape[0]\n",
        "\n",
        "    eps = 1e-10\n",
        "    covariance_mat = np.dot(center_data.T,center_data )/(n-1+eps)\n",
        "\n",
        "    return covariance_mat\n",
        "\n",
        "\n",
        "    # TODO: Implement the covariance matrix calculation\n",
        "    # Hint: Remember to center the data by subtracting the mean\n",
        "    # Avoid division by zero by adding a small epsilon value\n",
        "    pass\n"
      ]
    },
    {
      "cell_type": "markdown",
      "metadata": {
        "id": "8TEVIAPwQekh"
      },
      "source": [
        "\n",
        "### 1.2 Compute eigenvectors and eigenvalues\n",
        "\n",
        "**TODO**: Implement a function to compute eigenvectors and eigenvalues of the covariance matrix  \n",
        "**Hint**: You can use NumPy's linalg.eig function, but try to implement it yourself for learning purposes"
      ]
    },
    {
      "cell_type": "code",
      "execution_count": 5,
      "metadata": {
        "id": "ZbPZyJkuQeki"
      },
      "outputs": [],
      "source": [
        "# 1.2 Compute eigenvectors and eigenvalues\n",
        "def compute_eigenvectors_eigenvalues(cov_matrix):\n",
        "    \"\"\"\n",
        "    Compute the eigenvectors and eigenvalues of the covariance matrix.\n",
        "\n",
        "    Args:\n",
        "    cov_matrix (numpy.ndarray): Covariance matrix\n",
        "\n",
        "    Returns:\n",
        "    tuple: (eigenvalues, eigenvectors)\n",
        "    \"\"\"\n",
        "    eigenvalues, eigenvectors = np.linalg.eig(cov_matrix)\n",
        "    return eigenvalues, eigenvectors\n",
        "\n",
        "    # TODO: Implement eigenvector and eigenvalue calculation\n",
        "    # Hint: Use numpy.linalg.eigh() for symmetric matrices\n",
        "    pass"
      ]
    },
    {
      "cell_type": "markdown",
      "metadata": {
        "id": "LMlauD5PQekj"
      },
      "source": [
        "\n",
        "### 1.3 Select top k eigenvectors\n",
        "\n",
        "**TODO**: Implement a function to select the top k eigenvectors based on their corresponding eigenvalues  \n",
        "**TODO**: Create a projection matrix using these eigenvectors"
      ]
    },
    {
      "cell_type": "code",
      "execution_count": 6,
      "metadata": {
        "id": "5BRN7CfWQekj"
      },
      "outputs": [],
      "source": [
        "# 1.3 Select top k eigenvectors\n",
        "def select_top_k_eigenvectors(eigenvalues, eigenvectors, k):\n",
        "    \"\"\"\n",
        "    Select the top k eigenvectors based on eigenvalues.\n",
        "\n",
        "    Args:\n",
        "    eigenvalues (numpy.ndarray): Array of eigenvalues\n",
        "    eigenvectors (numpy.ndarray): Matrix of eigenvectors\n",
        "    k (int): Number of top eigenvectors to select\n",
        "\n",
        "    Returns:\n",
        "    numpy.ndarray: Top k eigenvectors\n",
        "    \"\"\"\n",
        "\n",
        "    #sort eigen values in decending order\n",
        "    sort_values = np.argsort(eigenvalues[::-1])\n",
        "\n",
        "    #sort eigen vector according to values\n",
        "    eigenvectors = eigenvectors[:,sort_values]\n",
        "\n",
        "    #Select top k eigen vectors\n",
        "    top_k_eigenvectors = eigenvectors[:,k]\n",
        "\n",
        "    return top_k_eigenvectors\n",
        "\n",
        "    # TODO: Implement the selection of top k eigenvectors\n",
        "    # Hint: Sort eigenvalues and select corresponding eigenvectors\n",
        "    pass"
      ]
    },
    {
      "cell_type": "markdown",
      "metadata": {
        "id": "iWFJ3WV9Qekk"
      },
      "source": [
        "\n",
        "### 1.4 Project the data onto the new subspace\n",
        "\n",
        "**TODO**: Project the centered data onto the new subspace defined by the top k eigenvectors  "
      ]
    },
    {
      "cell_type": "code",
      "execution_count": 7,
      "metadata": {
        "id": "kGwkK_tqQekk"
      },
      "outputs": [],
      "source": [
        "# 1.4 Project the data onto the new subspace\n",
        "def project_data(X, eigenvectors):\n",
        "    \"\"\"\n",
        "    Project the data onto the new subspace defined by the eigenvectors.\n",
        "\n",
        "    Args:\n",
        "    X (numpy.ndarray): Input data matrix\n",
        "    eigenvectors (numpy.ndarray): Matrix of selected eigenvectors\n",
        "\n",
        "    Returns:\n",
        "    numpy.ndarray: Projected data\n",
        "    \"\"\"\n",
        "\n",
        "    #Center the data by substacting the mean of each feature\n",
        "    centered_data = X - np.mean(X,axis=0)\n",
        "\n",
        "    projected_data = np.dot(centered_data,eigenvectors)\n",
        "\n",
        "    return projected_data\n",
        "    # TODO: Implement the data projection\n",
        "    # Hint: Center the data and then project it onto the eigenvectors\n",
        "    pass"
      ]
    },
    {
      "cell_type": "markdown",
      "metadata": {
        "id": "stIZlIf8Qekl"
      },
      "source": [
        "### 1.5 Reconstruct the compressed image\n",
        "\n",
        "**TODO**: Implement a function to reconstruct the compressed image from the projected data  "
      ]
    },
    {
      "cell_type": "code",
      "execution_count": 18,
      "metadata": {
        "id": "M_1KSlS2Qekl"
      },
      "outputs": [],
      "source": [
        "\n",
        "# 1.5 Reconstruct the compressed image\n",
        "def reconstruct_image(X_projected, eigenvectors, original_mean):\n",
        "    \"\"\"\n",
        "    Reconstruct the compressed image from the projected data.\n",
        "\n",
        "    Args:\n",
        "    X_projected (numpy.ndarray): Projected data\n",
        "    eigenvectors (numpy.ndarray): Matrix of selected eigenvectors\n",
        "    original_mean (numpy.ndarray): Mean of the original data\n",
        "\n",
        "    Returns:\n",
        "    numpy.ndarray: Reconstructed data\n",
        "    \"\"\"\n",
        "    if X_projected.ndim == 1:\n",
        "       X_projected = X_projected.reshape(X_projected.shape[0], 1)\n",
        "    if eigenvectors.ndim == 1:\n",
        "       eigenvectors = eigenvectors.reshape(eigenvectors.shape[0], 1)\n",
        "\n",
        "    return np.dot(X_projected,eigenvectors.T) + original_mean\n",
        "    # TODO: Implement the image reconstruction\n",
        "    # Hint: Project back to the original space and add the mean\n",
        "    pass"
      ]
    },
    {
      "cell_type": "markdown",
      "metadata": {
        "id": "l4hv5URqQekl"
      },
      "source": [
        "### 1.6 Complete the main function"
      ]
    },
    {
      "cell_type": "code",
      "execution_count": 14,
      "metadata": {
        "id": "zau1eEt7Qekm"
      },
      "outputs": [],
      "source": [
        "# Main PCA function\n",
        "def perform_pca(X, k):\n",
        "    \"\"\"\n",
        "    Perform PCA on the input data.\n",
        "\n",
        "    Args:\n",
        "    X (numpy.ndarray): Input data matrix\n",
        "    k (int): Number of principal components to keep\n",
        "\n",
        "    Returns:\n",
        "    tuple: (compressed_data, reconstructed_data, eigenvectors)\n",
        "    \"\"\"\n",
        "     # Compute the covariance matrix\n",
        "    cov_matrix = compute_covariance_matrix(X)\n",
        "\n",
        "    # Compute eigenvectors and eigenvalues\n",
        "    eigenvalues, eigenvectors = compute_eigenvectors_eigenvalues(cov_matrix)\n",
        "\n",
        "    #Select top k eigenvectors\n",
        "    top_k_eigenvectors = select_top_k_eigenvectors(eigenvalues, eigenvectors, k)\n",
        "\n",
        "    #Select top k eigenvectors\n",
        "    X_projected_data = project_data(X, top_k_eigenvectors)\n",
        "\n",
        "    #Reconstruct the data\n",
        "    X_mean = np.mean(X,axis=0)\n",
        "\n",
        "    reconstructed_image = reconstruct_image(X_projected_data, top_k_eigenvectors, X_mean)\n",
        "\n",
        "    return X_projected_data,reconstructed_image,top_k_eigenvectors\n",
        "\n",
        "    # TODO: Implement the main PCA function using the helper functions above\n",
        "    # 1. Compute the covariance matrix\n",
        "    # 2. Compute eigenvectors and eigenvalues\n",
        "    # 3. Select top k eigenvectors\n",
        "    # 4. Project the data\n",
        "    # 5. Reconstruct the data\n",
        "    pass"
      ]
    },
    {
      "cell_type": "code",
      "execution_count": 19,
      "metadata": {
        "id": "1RtaPDRRQekm",
        "outputId": "38a947df-abdc-41a3-c7f1-4104ca814cc1",
        "colab": {
          "base_uri": "https://localhost:8080/",
          "height": 890
        }
      },
      "outputs": [
        {
          "output_type": "display_data",
          "data": {
            "text/plain": [
              "<Figure size 1000x500 with 2 Axes>"
            ],
            "image/png": "[encoded data removed]"
          },
          "metadata": {}
        },
        {
          "output_type": "display_data",
          "data": {
            "text/plain": [
              "<Figure size 640x480 with 1 Axes>"
            ],
            "image/png": "[encoded data removed]"
          },
          "metadata": {}
        }
      ],
      "source": [
        "# Test the implementation\n",
        "k = 3  # Number of principal components to keep\n",
        "compressed_data, reconstructed_data, eigenvectors = perform_pca(X, k)\n",
        "\n",
        "# Visualize the results\n",
        "plt.figure(figsize=(10, 5))\n",
        "plt.subplot(1, 2, 1)\n",
        "plt.imshow(X[0].reshape(8, 8), cmap='gray')\n",
        "plt.title('Original Image')\n",
        "plt.subplot(1, 2, 2)\n",
        "plt.imshow(reconstructed_data[0].reshape(8, 8), cmap='gray')\n",
        "plt.title(f'Reconstructed Image (k={k})')\n",
        "plt.show()\n",
        "\n",
        "# Bonus: Determine optimal number of principal components\n",
        "def explained_variance_ratio(eigenvalues):\n",
        "    return eigenvalues / np.sum(eigenvalues)\n",
        "\n",
        "# Plot the cumulative explained variance ratio vs. number of components\n",
        "cov_matrix = compute_covariance_matrix(X)\n",
        "eigenvalues, _ = compute_eigenvectors_eigenvalues(cov_matrix)\n",
        "evr = explained_variance_ratio(eigenvalues)\n",
        "cumulative_evr = np.cumsum(evr)\n",
        "\n",
        "plt.plot(range(1, len(cumulative_evr) + 1), cumulative_evr)\n",
        "plt.xlabel('Number of Components')\n",
        "plt.ylabel('Cumulative Explained Variance Ratio')\n",
        "plt.title('Explained Variance Ratio vs. Number of Components')\n",
        "plt.show()"
      ]
    }
  ],
  "metadata": {
    "kernelspec": {
      "display_name": "Python 3",
      "language": "python",
      "name": "python3"
    },
    "language_info": {
      "codemirror_mode": {
        "name": "ipython",
        "version": 3
      },
      "file_extension": ".py",
      "mimetype": "text/x-python",
      "name": "python",
      "nbconvert_exporter": "python",
      "pygments_lexer": "ipython3",
      "version": "3.10.12"
    },
    "colab": {
      "provenance": [],
      "include_colab_link": true
    }
  },
  "nbformat": 4,
  "nbformat_minor": 0
}